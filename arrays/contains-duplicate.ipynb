{
 "cells": [
  {
   "cell_type": "markdown",
   "metadata": {},
   "source": [
    "# Array Contiains Duplicates\n",
    "Given an integer array nums, return true if any value appears at least twice in the array, and return false if every element is distinct.\n",
    "\n",
    "Example 1:\n",
    "  Input: nums = [1,2,3,1]\n",
    "  Output: true\n",
    "  Explanation:\n",
    "  The element 1 occurs at the indices 0 and 3.\n",
    "\n",
    "Example 2:\n",
    "  Input: nums = [1,2,3,4]\n",
    "  Output: false\n",
    "  Explanation:\n",
    "  All elements are distinct.\n",
    "\n",
    "Example 3:\n",
    "  Input: nums = [1,1,1,3,3,4,3,2,4,2]\n",
    "  Output: true\n",
    "  Constraints:\n",
    "  1 <= nums.length <= 10^5\n",
    "  -10^9 <= nums[i] <= 10^9"
   ]
  },
  {
   "cell_type": "code",
   "execution_count": 22,
   "metadata": {},
   "outputs": [],
   "source": [
    "tests = [\n",
    "\t{\n",
    "\t\t\"nums\": [1,2,3,1],\n",
    "\t\t\"expectedOutput\": True\n",
    "\t},\n",
    "\t{\n",
    "\t\t\"nums\": [1,2,3,4],\n",
    "\t\t\"expectedOutput\": False\n",
    "\t},\n",
    "\t{\n",
    "\t\t\"nums\":  [1,1,1,3,3,4,3,2,4,2],\n",
    "\t\t\"expectedOutput\": True\n",
    "\t},\n",
    "]"
   ]
  },
  {
   "cell_type": "markdown",
   "metadata": {},
   "source": [
    "# Solution #1\n",
    "Not the best option since its O(n^2) on time becuse of the 'in' use inside the 'for' and O(n) in space."
   ]
  },
  {
   "cell_type": "code",
   "execution_count": 4,
   "metadata": {},
   "outputs": [],
   "source": [
    "def contains_duplicate(nums):\n",
    "    \"\"\"\n",
    "    :type nums: List[int]\n",
    "    :rtype: bool\n",
    "    \"\"\"\n",
    "    prev_nums = []\n",
    "    for num in nums:\n",
    "      if num in prev_nums:\n",
    "        return True\n",
    "      else:\n",
    "        prev_nums.append(num)\n",
    "    return False\n"
   ]
  },
  {
   "cell_type": "markdown",
   "metadata": {},
   "source": [
    "# Solution #2\n",
    "\n",
    "Using a Set will make the time complexity to O(n) since internally the Set data structure uses a Hash Map making the searches (using 'in') be O(1) instead of O(n) as it would be if we use the 'in' with a List."
   ]
  },
  {
   "cell_type": "code",
   "execution_count": 23,
   "metadata": {},
   "outputs": [],
   "source": [
    "def contains_duplicate(nums):\n",
    "    \"\"\"\n",
    "    :type nums: List[int]\n",
    "    :rtype: bool\n",
    "    \"\"\"\n",
    "    if(len(nums) <= 1):\n",
    "      return False\n",
    "    seen = set()\n",
    "    for num in nums:\n",
    "      if num in seen:\n",
    "        return True\n",
    "      else:\n",
    "        seen.add(num)\n",
    "    return False"
   ]
  },
  {
   "cell_type": "code",
   "execution_count": 24,
   "metadata": {},
   "outputs": [
    {
     "name": "stdout",
     "output_type": "stream",
     "text": [
      "output True\n",
      "> True\n",
      "output False\n",
      "> True\n",
      "output True\n",
      "> True\n"
     ]
    }
   ],
   "source": [
    "for test in tests:\n",
    "    output = contains_duplicate(test[\"nums\"])\n",
    "    print('output',output)\n",
    "    print('>', output == test[\"expectedOutput\"])"
   ]
  }
 ],
 "metadata": {
  "kernelspec": {
   "display_name": "Python 3",
   "language": "python",
   "name": "python3"
  },
  "language_info": {
   "codemirror_mode": {
    "name": "ipython",
    "version": 3
   },
   "file_extension": ".py",
   "mimetype": "text/x-python",
   "name": "python",
   "nbconvert_exporter": "python",
   "pygments_lexer": "ipython3",
   "version": "3.9.1"
  }
 },
 "nbformat": 4,
 "nbformat_minor": 2
}
