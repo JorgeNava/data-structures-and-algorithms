{
 "cells": [
  {
   "cell_type": "markdown",
   "metadata": {},
   "source": [
    "# Arrays Single Number\n",
    "Given a non-empty array of integers nums, every element appears twice except for one. Find that single one.\n",
    "You must implement a solution with a linear runtime complexity and use only constant extra space.\n",
    "\n",
    "\n",
    "Example 1:\n",
    "    Input: nums = [2,2,1]\n",
    "    Output: 1\n",
    "\n",
    "Example 2:\n",
    "    Input: nums = [4,1,2,1,2]\n",
    "    Output: 4\n",
    "\n",
    "Example 3:\n",
    "    Input: nums = [1]\n",
    "    Output: 1\n",
    "\n",
    "Constraints:\n",
    "    1 <= nums.length <= 3 * 10^4\n",
    "    -3 * 10^4 <= nums[i] <= 3 * 1^04\n",
    "    Each element in the array appears twice except for one element which appears only once."
   ]
  },
  {
   "cell_type": "code",
   "execution_count": 17,
   "metadata": {},
   "outputs": [],
   "source": [
    "tests = [\n",
    "\t{\n",
    "\t\t\"nums\": [2,2,1],\n",
    "\t\t\"expectedOutput\": 1\n",
    "\t},\n",
    "\t{\n",
    "\t\t\"nums\": [4,1,2,1,2],\n",
    "\t\t\"expectedOutput\": 4\n",
    "\t},\n",
    "\t{\n",
    "\t\t\"nums\":  [1],\n",
    "\t\t\"expectedOutput\": 1\n",
    "\t},\n",
    "]"
   ]
  },
  {
   "cell_type": "markdown",
   "metadata": {},
   "source": [
    "# Solution #1\n",
    "\n",
    "Using the XOR bit operation, where applied to two variables having the same value it will return 0. If we apply this to all numbers on the list those that have a pair will be 'cancelled' or 'removed' from the cumulative sum of the exclusive OR operation.\n",
    "\n",
    "For example:\n",
    "\n",
    "InitialComulativeSum(0) XOR 4 = ComulativeSum: 4\n",
    "\n",
    "ComulativeSum(4) XOR 1 = ComulativeSum: 5\n",
    "\n",
    "ComulativeSum(5) XOR 2 = ComulativeSum: 7\n",
    "\n",
    "ComulativeSum(7) XOR 2 = ComulativeSum: 5\n",
    "\n",
    "ComulativeSum(5) XOR 4 = ComulativeSum: 1\n",
    "\n",
    "FinalComulativeSum = 1"
   ]
  },
  {
   "cell_type": "code",
   "execution_count": 18,
   "metadata": {},
   "outputs": [],
   "source": [
    "def single_number(nums):\n",
    "    \"\"\"\n",
    "    :type nums: List[int]\n",
    "    :rtype: int\n",
    "    \"\"\"\n",
    "    if len(nums) == 1:\n",
    "      return nums[0]\n",
    "    result = 0\n",
    "    for num in nums:\n",
    "      result ^= num\n",
    "    return result"
   ]
  },
  {
   "cell_type": "code",
   "execution_count": 19,
   "metadata": {},
   "outputs": [
    {
     "name": "stdout",
     "output_type": "stream",
     "text": [
      "output 1\n",
      "> True\n",
      "output 4\n",
      "> True\n",
      "output 1\n",
      "> True\n"
     ]
    }
   ],
   "source": [
    "for test in tests:\n",
    "    output = single_number(test[\"nums\"])\n",
    "    print('output',output)\n",
    "    print('>', output == test[\"expectedOutput\"])"
   ]
  }
 ],
 "metadata": {
  "kernelspec": {
   "display_name": "Python 3",
   "language": "python",
   "name": "python3"
  },
  "language_info": {
   "codemirror_mode": {
    "name": "ipython",
    "version": 3
   },
   "file_extension": ".py",
   "mimetype": "text/x-python",
   "name": "python",
   "nbconvert_exporter": "python",
   "pygments_lexer": "ipython3",
   "version": "3.9.1"
  }
 },
 "nbformat": 4,
 "nbformat_minor": 2
}
