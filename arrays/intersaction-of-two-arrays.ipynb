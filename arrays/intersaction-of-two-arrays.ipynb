{
 "cells": [
  {
   "cell_type": "markdown",
   "metadata": {},
   "source": [
    "# Intersection of Two Arrays II\n",
    "Given two integer arrays nums1 and nums2, return an array of their intersection. Each element in the result must appear as many times as it shows in both arrays and you may return the result in any order.\n",
    "\n",
    "Example 1:\n",
    "\n",
    "Input: nums1 = [1,2,2,1], nums2 = [2,2]\n",
    "Output: [2,2]\n",
    "\n",
    "\n",
    "Example 2:\n",
    "\n",
    "Input: nums1 = [4,9,5], nums2 = [9,4,9,8,4]\n",
    "Output: [4,9]\n",
    "Explanation: [9,4] is also accepted.\n",
    " \n",
    "\n",
    "Constraints:\n",
    "\n",
    "1 <= nums1.length, nums2.length <= 1000\n",
    "0 <= nums1[i], nums2[i] <= 1000\n",
    " \n",
    "\n",
    "Follow up:\n",
    "\n",
    "* What if the given array is already sorted? How would you optimize your algorithm?\n",
    "* What if nums1's size is small compared to nums2's size? Which algorithm is better?\n",
    "* What if elements of nums2 are stored on disk, and the memory is limited such that you cannot load all elements into the memory at once?"
   ]
  },
  {
   "cell_type": "code",
   "execution_count": 21,
   "metadata": {},
   "outputs": [],
   "source": [
    "tests = [\n",
    "\t{\n",
    "\t\t\"nums1\": [1,2,2,1],\n",
    "\t\t\"nums2\": [2,2],\n",
    "\t\t\"expectedOutput\": [2,2]\n",
    "\t},\n",
    "\t{\n",
    "\t\t\"nums1\": [4,9,5],\n",
    "\t\t\"nums2\": [9,4,9,8,4],\n",
    "\t\t\"expectedOutput\": [9,4]\n",
    "\t},\n",
    "]"
   ]
  },
  {
   "cell_type": "markdown",
   "metadata": {},
   "source": [
    "# Solution #1\n",
    "This is a bad approach since its O(n^2) in time complexity in the worst case. \n",
    "\n",
    "It actually doesn't work: \n",
    "\n",
    "Input:\n",
    "[1,2,2,1]\n",
    "[2]\n",
    "Output:\n",
    "[2,2]\n",
    "Expected:\n",
    "[2]"
   ]
  },
  {
   "cell_type": "code",
   "execution_count": 12,
   "metadata": {},
   "outputs": [],
   "source": [
    "def intersect(nums1, nums2):\n",
    "  result = []\n",
    "  for num1 in nums1:\n",
    "    for num2 in nums2:\n",
    "      if num1 == num2:\n",
    "        result.append(num1)\n",
    "        break\n",
    "  return result"
   ]
  },
  {
   "cell_type": "markdown",
   "metadata": {},
   "source": [
    "# Solution #2\n",
    "We are going to count the number of times each number appears in list #1.\n",
    "After that we are going to see if this number appears in the list #2 and if it does then will add it to the results list and remove 1 appearance from the count hash map in order to be able to be removing one for each intersection between the lists.\n",
    "\n",
    "Its time complexity is O(n + m) = O(n) where n and m are the length of the lists, this because we need to iterate through both list completly.\n",
    "\n",
    "Its space complexity is O(n + m) = O (n) in the worst case since it could have all of their elements as intersactions."
   ]
  },
  {
   "cell_type": "code",
   "execution_count": 19,
   "metadata": {},
   "outputs": [],
   "source": [
    "def intersect(nums1, nums2):\n",
    "  count1 = {}\n",
    "  result = []\n",
    "  for num in nums1:\n",
    "    if num in count1:\n",
    "      count1[num] += 1\n",
    "    else:\n",
    "      count1[num] = 1\n",
    "  \n",
    "  for num in nums2:\n",
    "    if num in count1 and count1[num] > 0:\n",
    "      result.append(num)\n",
    "      count1[num] -= 1\n",
    "  return result"
   ]
  },
  {
   "cell_type": "code",
   "execution_count": 22,
   "metadata": {},
   "outputs": [
    {
     "name": "stdout",
     "output_type": "stream",
     "text": [
      "output [2, 2]\n",
      "> True\n",
      "output [9, 4]\n",
      "> True\n"
     ]
    }
   ],
   "source": [
    "for test in tests:\n",
    "    output = intersect(test[\"nums1\"], test[\"nums2\"])\n",
    "    print('output',output)\n",
    "    print('>', output == test[\"expectedOutput\"])"
   ]
  }
 ],
 "metadata": {
  "kernelspec": {
   "display_name": "Python 3",
   "language": "python",
   "name": "python3"
  },
  "language_info": {
   "codemirror_mode": {
    "name": "ipython",
    "version": 3
   },
   "file_extension": ".py",
   "mimetype": "text/x-python",
   "name": "python",
   "nbconvert_exporter": "python",
   "pygments_lexer": "ipython3",
   "version": "3.9.1"
  }
 },
 "nbformat": 4,
 "nbformat_minor": 2
}
