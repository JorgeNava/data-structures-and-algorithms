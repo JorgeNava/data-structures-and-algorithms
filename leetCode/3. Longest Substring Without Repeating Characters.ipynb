{
 "cells": [
  {
   "cell_type": "markdown",
   "metadata": {},
   "source": [
    "Given a string s, find the length of the longest substring without repeating characters.\n",
    "\n",
    "Example 1:\n",
    "\n",
    "  Input: s = \"abcabcbb\"\n",
    "  Output: 3\n",
    "  Explanation: The answer is \"abc\", with the length of 3.\n",
    "\n",
    "\n",
    "Example 2:\n",
    "\n",
    "  Input: s = \"bbbbb\"\n",
    "  Output: 1\n",
    "  Explanation: The answer is \"b\", with the length of 1.\n",
    "\n",
    "\n",
    "Example 3:\n",
    "\n",
    "  Input: s = \"pwwkew\"\n",
    "  Output: 3\n",
    "  Explanation: The answer is \"wke\", with the length of 3.\n",
    "  Notice that the answer must be a substring, \"pwke\" is a subsequence and not a substring.\n",
    "\n",
    "Constraints:\n",
    "\n",
    "  0 <= s.length <= 5 * 104\n",
    "  s consists of English letters, digits, symbols and spaces."
   ]
  },
  {
   "cell_type": "markdown",
   "metadata": {},
   "source": [
    "INPUTS"
   ]
  },
  {
   "cell_type": "code",
   "execution_count": 28,
   "metadata": {},
   "outputs": [],
   "source": [
    "s = \"dvdf\"\n",
    "expectedOutput = 3"
   ]
  },
  {
   "cell_type": "code",
   "execution_count": 29,
   "metadata": {},
   "outputs": [
    {
     "name": "stdout",
     "output_type": "stream",
     "text": [
      "vf\n"
     ]
    }
   ],
   "source": [
    "# Solution 1 \n",
    "\"\"\" \n",
    "  Iterate through the string\n",
    "    If char not in subtring:\n",
    "      Concatanate char to the subtring \n",
    "    If char in string:\n",
    "      If actual length of substring > highest stored substring length:\n",
    "        highest = actualLength\n",
    "      else:\n",
    "        Remove first char from substring\n",
    "\"\"\"\n",
    "substring = \"\"\n",
    "highest = 0\n",
    "output = 0\n",
    "for i in range(len(s)):\n",
    "  char = s[i]\n",
    "  if char not in substring:\n",
    "    substring += char\n",
    "  elif char in substring:\n",
    "    if len(substring) > highest:\n",
    "      highest = len(substring)\n",
    "    substring = substring[1::]\n",
    "print(substring)\n",
    "output = highest"
   ]
  },
  {
   "cell_type": "code",
   "execution_count": 30,
   "metadata": {},
   "outputs": [
    {
     "name": "stdout",
     "output_type": "stream",
     "text": [
      "s: dvdf\n",
      "Expected Output: 3\n",
      "Output: 2\n",
      "Worked: False\n"
     ]
    }
   ],
   "source": [
    "print('s:', s)\n",
    "print('Expected Output:', expectedOutput)\n",
    "print('Output:', output)\n",
    "print('Worked:', expectedOutput == output)"
   ]
  }
 ],
 "metadata": {
  "kernelspec": {
   "display_name": "Python 3",
   "language": "python",
   "name": "python3"
  },
  "language_info": {
   "codemirror_mode": {
    "name": "ipython",
    "version": 3
   },
   "file_extension": ".py",
   "mimetype": "text/x-python",
   "name": "python",
   "nbconvert_exporter": "python",
   "pygments_lexer": "ipython3",
   "version": "3.9.1"
  }
 },
 "nbformat": 4,
 "nbformat_minor": 2
}
