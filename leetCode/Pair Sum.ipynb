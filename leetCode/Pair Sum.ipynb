{
 "cells": [
  {
   "attachments": {},
   "cell_type": "markdown",
   "metadata": {},
   "source": [
    "Given a list of n integers arr[0..(n-1)], determine the number of different pairs of elements within it which sum to k.\n",
    "If an integer appears in the list multiple times, each copy is considered to be different; that is, two pairs are considered different if one pair includes at least one array index which the other doesn't, even if they include the same values.\n",
    "\n",
    "Signature\n",
    "int numberOfWays(int[] arr, int k)\n",
    "\n",
    "Input\n",
    "n is in the range [1, 100,000].\n",
    "Each value arr[i] is in the range [1, 1,000,000,000].\n",
    "k is in the range [1, 1,000,000,000].\n",
    "Output\n",
    "Return the number of different pairs of elements which sum to k.\n",
    "\n",
    "Example 1\n",
    "n = 5\n",
    "k = 6\n",
    "arr = [1, 2, 3, 4, 3]\n",
    "output = 2\n",
    "The valid pairs are 2+4 and 3+3.\n",
    "\n",
    "Example 2\n",
    "n = 5\n",
    "k = 6\n",
    "arr = [1, 5, 3, 3, 3]\n",
    "output = 4\n",
    "There's one valid pair 1+5, and three different valid pairs 3+3 (the 3rd and 4th elements, 3rd and 5th elements, and 4th and 5th elements)."
   ]
  },
  {
   "cell_type": "code",
   "execution_count": 3,
   "metadata": {},
   "outputs": [],
   "source": [
    "def numberOfWays(numbers, target):\n",
    "    count = 0\n",
    "    auxDic = {}\n",
    "    # iterate through every element of the list\n",
    "    # get the complementary part of the actual number and store it on an auxilar dictionary\n",
    "    # then iterate through the array again and count every time a complementary number appears\n",
    "    for number in numbers:\n",
    "        diff = target - number\n",
    "        if diff > 0:\n",
    "            auxDic[diff]: number\n",
    "    print(auxDic)\n",
    "    return count"
   ]
  },
  {
   "cell_type": "code",
   "execution_count": 4,
   "metadata": {},
   "outputs": [
    {
     "name": "stdout",
     "output_type": "stream",
     "text": [
      "Test list:  [1, 2, 3, 4, 3]\n",
      "{}\n",
      "Obtained result:  0\n",
      "Real result:  2\n",
      "{}\n",
      "TEST RESULT:  False\n",
      "Test list:  [1, 5, 3, 3, 3]\n",
      "{}\n",
      "Obtained result:  0\n",
      "Real result:  4\n",
      "{}\n",
      "TEST RESULT:  False\n"
     ]
    }
   ],
   "source": [
    "tests = [\n",
    "    {\n",
    "        \"arr\": [1, 2, 3, 4, 3],\n",
    "        \"n\": 5,\n",
    "        \"k\": 6,\n",
    "        \"output\": 2\n",
    "    },\n",
    "    {   \n",
    "        \"arr\": [1, 5, 3, 3, 3],\n",
    "        \"n\": 5,\n",
    "        \"k\": 6,\n",
    "        \"output\": 4\n",
    "    },\n",
    "]\n",
    "for test in tests:\n",
    "  print(\"Test list: \", test[\"arr\"])\n",
    "  print(\"Obtained result: \", numberOfWays(test[\"arr\"], test[\"k\"]))\n",
    "  print(\"Real result: \", test[\"output\"])\n",
    "  print(\"TEST RESULT: \", numberOfWays(test[\"arr\"], test[\"k\"]) == test[\"output\"])"
   ]
  }
 ],
 "metadata": {
  "kernelspec": {
   "display_name": "Python 3",
   "language": "python",
   "name": "python3"
  },
  "language_info": {
   "codemirror_mode": {
    "name": "ipython",
    "version": 3
   },
   "file_extension": ".py",
   "mimetype": "text/x-python",
   "name": "python",
   "nbconvert_exporter": "python",
   "pygments_lexer": "ipython3",
   "version": "3.8.5"
  },
  "orig_nbformat": 4
 },
 "nbformat": 4,
 "nbformat_minor": 2
}
