{
 "cells": [
  {
   "attachments": {},
   "cell_type": "markdown",
   "metadata": {},
   "source": [
    "Given an array nums. We define a running sum of an array as runningSum[i] = sum(nums[0]…nums[i]).\n",
    "Return the running sum of nums.\n",
    "\n",
    "Example 1:\n",
    "Input: nums = [1,2,3,4]\n",
    "Output: [1,3,6,10]\n",
    "Explanation: Running sum is obtained as follows: [1, 1+2, 1+2+3, 1+2+3+4].\n",
    "\n",
    "Example 2:\n",
    "Input: nums = [1,1,1,1,1]\n",
    "Output: [1,2,3,4,5]\n",
    "Explanation: Running sum is obtained as follows: [1, 1+1, 1+1+1, 1+1+1+1, 1+1+1+1+1].\n",
    "\n",
    "Example 3:\n",
    "Input: nums = [3,1,2,10,1]\n",
    "Output: [3,4,6,16,17]\n",
    "\n",
    "Constraints:\n",
    "  1 <= nums.length <= 1000\n",
    "  -10^6 <= nums[i] <= 10^6"
   ]
  },
  {
   "attachments": {},
   "cell_type": "markdown",
   "metadata": {},
   "source": [
    "INPUTS"
   ]
  },
  {
   "cell_type": "code",
   "execution_count": 61,
   "metadata": {},
   "outputs": [],
   "source": [
    "nums = [3, 1, 2, 10, 1]\n",
    "expectedOutput = [3, 4, 6, 16, 17]"
   ]
  },
  {
   "cell_type": "code",
   "execution_count": 53,
   "metadata": {},
   "outputs": [],
   "source": [
    "#SOLUTION #1\n",
    "# Time complexity of O(n) and space complexity of O(n)\n",
    "output = []\n",
    "runningSum = 0\n",
    "for el in nums:\n",
    "  runningSum += el\n",
    "  output.append(runningSum) "
   ]
  },
  {
   "cell_type": "code",
   "execution_count": 56,
   "metadata": {},
   "outputs": [],
   "source": [
    "#SOLUTION #2\n",
    "# Space complexity O(1) and time complexity O(n)\n",
    "output = []\n",
    "runningSum = 0\n",
    "for i in range(len(nums)):\n",
    "    temp = nums[i]\n",
    "    nums[i] += runningSum\n",
    "    runningSum += temp\n",
    "output = nums\n"
   ]
  },
  {
   "cell_type": "code",
   "execution_count": 59,
   "metadata": {},
   "outputs": [],
   "source": [
    "#SOLUTION #3\n",
    "# We iterate from 2nd elem. to last one.\n",
    "# The actual elem. value passes to be the sum of the actual value and the value of the previous element.\n",
    "# Since the actual elem. is now the sum of the previous one the the value it had the next iteration the sum\n",
    "# of the next elem. will include the sum of the previouse iteration.\n",
    "# This approach saves memory with a space complexity of O(1) and a time complexity of O(n).\n",
    "for i in range(1,len(nums)):\n",
    "  nums[i] += nums[i-1]\n",
    "output = nums"
   ]
  },
  {
   "cell_type": "code",
   "execution_count": 62,
   "metadata": {},
   "outputs": [],
   "source": [
    "#SOLUTION #4\n",
    "# This approach sum the numbers from the 1st element to the next element of the actual iteration.\n",
    "# This approach has a time complexity O(n^2) and a space complexity of O(n)\n",
    "output = []\n",
    "def sum_elements(nums):\n",
    "  result = 0\n",
    "  for i in nums:\n",
    "    result += i\n",
    "  return result\n",
    "\n",
    "for i in range (len(nums)):\n",
    "    num = sum_elements(nums[:i+1])\n",
    "    output.append(num)\n"
   ]
  },
  {
   "cell_type": "code",
   "execution_count": 63,
   "metadata": {},
   "outputs": [
    {
     "name": "stdout",
     "output_type": "stream",
     "text": [
      "Nums: [3, 1, 2, 10, 1]\n",
      "Expected Output: [3, 4, 6, 16, 17]\n",
      "Output: [3, 4, 6, 16, 17]\n",
      "Worked: True\n"
     ]
    }
   ],
   "source": [
    "print('Nums:', nums)\n",
    "print('Expected Output:', expectedOutput)\n",
    "print('Output:', output)\n",
    "print('Worked:', expectedOutput == output)"
   ]
  }
 ],
 "metadata": {
  "kernelspec": {
   "display_name": "Python 3",
   "language": "python",
   "name": "python3"
  },
  "language_info": {
   "codemirror_mode": {
    "name": "ipython",
    "version": 3
   },
   "file_extension": ".py",
   "mimetype": "text/x-python",
   "name": "python",
   "nbconvert_exporter": "python",
   "pygments_lexer": "ipython3",
   "version": "3.9.16"
  },
  "orig_nbformat": 4
 },
 "nbformat": 4,
 "nbformat_minor": 2
}
