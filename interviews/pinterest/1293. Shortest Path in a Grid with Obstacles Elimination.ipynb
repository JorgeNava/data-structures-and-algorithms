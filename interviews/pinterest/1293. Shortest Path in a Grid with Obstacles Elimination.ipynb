{
 "cells": [
  {
   "attachments": {},
   "cell_type": "markdown",
   "metadata": {},
   "source": [
    "You are given an m x n integer matrix grid where each cell is either 0 (empty) or 1 (obstacle). You can move up, down, left, or right from and to an empty cell in one step.\n",
    "\n",
    "Return the minimum number of steps to walk from the upper left corner (0, 0) to the lower right corner (m - 1, n - 1) given that you can eliminate at most k obstacles. If it is not possible to find such walk return -1.\n",
    "\n",
    "Example 1\n",
    "\n",
    "Input: grid = [[0,0,0],[1,1,0],[0,0,0],[0,1,1],[0,0,0]], k = 1\n",
    "Output: 6\n",
    "Explanation: \n",
    "The shortest path without eliminating any obstacle is 10.\n",
    "The shortest path with one obstacle elimination at position (3,2) is 6. Such path is (0,0) -> (0,1) -> (0,2) -> (1,2) -> (2,2) -> (3,2) -> (4,2).\n",
    "\n",
    "Example 2\n",
    "\n",
    "Input: grid = [[0,1,1],[1,1,1],[1,0,0]], k = 1\n",
    "Output: -1\n",
    "Explanation: We need to eliminate at least two obstacles to find such a walk."
   ]
  },
  {
   "cell_type": "code",
   "execution_count": null,
   "metadata": {},
   "outputs": [],
   "source": []
  }
 ],
 "metadata": {
  "language_info": {
   "name": "python"
  },
  "orig_nbformat": 4
 },
 "nbformat": 4,
 "nbformat_minor": 2
}
